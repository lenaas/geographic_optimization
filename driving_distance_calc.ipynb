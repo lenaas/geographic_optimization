{
 "cells": [
  {
   "attachments": {},
   "cell_type": "markdown",
   "metadata": {},
   "source": [
    "# Driving Distance Calculation"
   ]
  },
  {
   "attachments": {},
   "cell_type": "markdown",
   "metadata": {},
   "source": [
    "## Imports"
   ]
  },
  {
   "cell_type": "code",
   "execution_count": 2,
   "metadata": {},
   "outputs": [],
   "source": [
    "import pandas as pd\n",
    "import numpy as np\n",
    "import pgeocode\n",
    "import osrm\n",
    "import requests\n",
    "import json\n",
    "from tqdm import tqdm\n",
    "import glob\n",
    "import os "
   ]
  },
  {
   "attachments": {},
   "cell_type": "markdown",
   "metadata": {},
   "source": [
    "## Data Preparation"
   ]
  },
  {
   "attachments": {},
   "cell_type": "markdown",
   "metadata": {},
   "source": [
    "### Create DataFrames"
   ]
  },
  {
   "cell_type": "code",
   "execution_count": 3,
   "metadata": {},
   "outputs": [],
   "source": [
    "zipcodes_df = pd.read_csv('zipcodes.csv',usecols=['zipcode'],dtype='str')\n",
    "compounds_df = pd.read_csv('compounds_addresses.csv')"
   ]
  },
  {
   "attachments": {},
   "cell_type": "markdown",
   "metadata": {},
   "source": [
    "### Convert Zipcode to longitude and latitude"
   ]
  },
  {
   "attachments": {},
   "cell_type": "markdown",
   "metadata": {},
   "source": [
    "#### For zipcodes_df"
   ]
  },
  {
   "cell_type": "code",
   "execution_count": 6,
   "metadata": {},
   "outputs": [
    {
     "data": {
      "text/plain": [
       "postal_code                                                   01067\n",
       "country_code                                                     DE\n",
       "place_name        Dresden Innere Altstadt, Dresden, Dresden Frie...\n",
       "state_name                                                  Sachsen\n",
       "state_code                                                       SN\n",
       "county_name                                                     NaN\n",
       "county_code                                                     0.0\n",
       "community_name                             Kreisfreie Stadt Dresden\n",
       "community_code                                              14612.0\n",
       "latitude                                                    51.0547\n",
       "longitude                                                   13.7269\n",
       "accuracy                                                        4.0\n",
       "Name: 0, dtype: object"
      ]
     },
     "execution_count": 6,
     "metadata": {},
     "output_type": "execute_result"
    }
   ],
   "source": [
    "# Usage of pgeocode to convert zipcode to coordinates. \n",
    "# Insert abbreviation of country of which the zipcodes are from\n",
    "nomi = pgeocode.Nominatim('de') "
   ]
  },
  {
   "cell_type": "code",
   "execution_count": 7,
   "metadata": {},
   "outputs": [],
   "source": [
    "# Query pgeocode for lat, long, state_name, state_code, community_name, community_code \n",
    "for index,row in zipcodes_df.iterrows():\n",
    "    query = nomi.query_postal_code(zipcodes_df.iat[index,0])\n",
    "    zipcodes_df.at[index,'lat']= query['latitude']\n",
    "    zipcodes_df.at[index,'long']= query['longitude']\n",
    "    zipcodes_df.at[index,'state']= query['state_name']\n",
    "    zipcodes_df.at[index,'state_code']= query['state_code']\n",
    "    zipcodes_df.at[index,'community_name']= query['community_name']\n",
    "    zipcodes_df.at[index,'community_code']= query['community_code']"
   ]
  },
  {
   "attachments": {},
   "cell_type": "markdown",
   "metadata": {},
   "source": [
    "#### For compounds_df"
   ]
  },
  {
   "cell_type": "code",
   "execution_count": 8,
   "metadata": {},
   "outputs": [],
   "source": [
    "# Extract zipcode from address\n",
    "compounds_df['zipcode'] = compounds_df['compound_address'].str.findall(r'([0-9]\\d+)').apply(lambda x: x[-1] if len(x) >= 1 else '')\n",
    "\n",
    "# Query pgeocode for lat and long (more information also possible like in previous cell)\n",
    "for index,row in compounds_df.iterrows():\n",
    "    query = nomi.query_postal_code(compounds_df.iat[index,2])\n",
    "    compounds_df.at[index,'lat']= query['latitude']\n",
    "    compounds_df.at[index,'long']= query['longitude']"
   ]
  },
  {
   "attachments": {},
   "cell_type": "markdown",
   "metadata": {},
   "source": [
    "### Add coordinate column"
   ]
  },
  {
   "cell_type": "code",
   "execution_count": null,
   "metadata": {},
   "outputs": [],
   "source": [
    "# Add column in which lat and long are merged together\n",
    "zipcodes_df['coor']=list(zip(zipcodes_df.lat,zipcodes_df.long))\n",
    "compounds_df['coor']=list(zip(compounds_df.lat,compounds_df.long))"
   ]
  },
  {
   "attachments": {},
   "cell_type": "markdown",
   "metadata": {},
   "source": [
    "## Driving Distance Calculation"
   ]
  },
  {
   "cell_type": "code",
   "execution_count": null,
   "metadata": {},
   "outputs": [],
   "source": [
    "def request_driving_distance_in_meters_from_api(loc1,loc2):\n",
    "    '''Requests from OpenStreetMap to calculate Driving Distance between customer and compound'''\n",
    "    r = requests.get(f\"\"\"http://router.project-osrm.org/route/v1/car/{loc1[1]},{loc1[0]};{loc2[1]},{loc2[0]}?overview=false\"\"\")\n",
    "    content = json.loads(r.content)\n",
    "    if 'routes' in content:\n",
    "        route_1 = content['routes'][0]\n",
    "        return route_1['distance']\n",
    "    else:\n",
    "        return 0.0"
   ]
  },
  {
   "cell_type": "code",
   "execution_count": null,
   "metadata": {},
   "outputs": [],
   "source": [
    "# Checkpointing by diving dataframe in small chunks and only calculating on the small chunks\n",
    "zipcodes_df_split = np.array_split(zipcodes_df,100)"
   ]
  },
  {
   "cell_type": "code",
   "execution_count": null,
   "metadata": {},
   "outputs": [],
   "source": [
    "# Calculations\n",
    "tqdm.pandas()\n",
    "\n",
    "for i in range(55,100):\n",
    "    driving_distances_df = zipcodes_df_split[i]\n",
    "    for _,row in compounds_df.iterrows():\n",
    "        driving_distances_df[row.compound_name]=driving_distances_df['coor'].progress_apply(lambda x: request_driving_distance_in_meters_from_api(row['coor'],x))\n",
    "    driving_distances_df.to_csv(f'csv_{i}')"
   ]
  },
  {
   "cell_type": "code",
   "execution_count": null,
   "metadata": {},
   "outputs": [],
   "source": [
    "# Merging all 100 resulting csv files into one\n",
    "files = os.path.join(\"csv_*\")\n",
    "files = glob.glob(files)\n",
    "files.sort()\n",
    "print(len(files))\n",
    "\n",
    "driving_distances_complete_df = pd.concat(map(pd.read_csv,files), ignore_index=True)\n",
    "\n",
    "# Drop first column as it's a duplicate of the index\n",
    "driving_distances_complete_df=driving_distances_complete_df.loc[:, ~driving_distances_complete_df.columns.str.contains('^Unnamed')]\n",
    "\n",
    "# Safe raw results as csv\n",
    "driving_distances_complete_df.to_csv('driving_distances_complete_in_meters.csv')"
   ]
  },
  {
   "cell_type": "code",
   "execution_count": null,
   "metadata": {},
   "outputs": [],
   "source": [
    "def convert_meters_to_kilometers(x):\n",
    "    '''Function converting input in meters to kilometers'''\n",
    "    return x/1000\n"
   ]
  },
  {
   "cell_type": "code",
   "execution_count": null,
   "metadata": {},
   "outputs": [],
   "source": [
    "# Convert to km and safe as csv \n",
    "distances_km_df = driving_distances_complete_df.copy()\n",
    "distances_km_df.iloc[:,8:]=distances_km_df.iloc[:,8:].apply(convert_meters_to_kilometers,axis=1)\n",
    "\n",
    "distances_km_df.to_csv('distances_complete_in_kilometers.csv')"
   ]
  }
 ],
 "metadata": {
  "kernelspec": {
   "display_name": "Machine_Learning",
   "language": "python",
   "name": "python3"
  },
  "language_info": {
   "codemirror_mode": {
    "name": "ipython",
    "version": 3
   },
   "file_extension": ".py",
   "mimetype": "text/x-python",
   "name": "python",
   "nbconvert_exporter": "python",
   "pygments_lexer": "ipython3",
   "version": "3.8.11"
  },
  "orig_nbformat": 4,
  "vscode": {
   "interpreter": {
    "hash": "b87c5cd517315554be61510f43e1a54ca7a62f8d4edb28cd9ce9a6fffaa081d4"
   }
  }
 },
 "nbformat": 4,
 "nbformat_minor": 2
}
