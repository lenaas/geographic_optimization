{
 "cells": [
  {
   "cell_type": "markdown",
   "id": "ee644cc3",
   "metadata": {},
   "source": [
    "# Geographic Optimization"
   ]
  },
  {
   "cell_type": "markdown",
   "id": "669969cc",
   "metadata": {},
   "source": [
    "## 1. Distance Calculation\n",
    "\n",
    "Distances between each of the 16 focus compounds and all approx. 8000 zip codes in Germany."
   ]
  },
  {
   "cell_type": "markdown",
   "id": "a7c5c0e6",
   "metadata": {},
   "source": [
    "### Imports"
   ]
  },
  {
   "cell_type": "code",
   "execution_count": 1,
   "id": "96d720aa",
   "metadata": {},
   "outputs": [],
   "source": [
    "import pandas as pd\n",
    "import numpy as np\n",
    "import pgeocode\n",
    "import haversine as hs"
   ]
  },
  {
   "cell_type": "markdown",
   "id": "29a3278b",
   "metadata": {},
   "source": [
    "### Data Preparation"
   ]
  },
  {
   "cell_type": "markdown",
   "id": "d01d3709",
   "metadata": {},
   "source": [
    "#### Create Dataframes"
   ]
  },
  {
   "cell_type": "code",
   "execution_count": null,
   "id": "a119dfe8",
   "metadata": {},
   "outputs": [],
   "source": [
    "zipcodes_df = pd.read_csv('zipcodes.csv',usecols=['zipcode'],dtype='str')\n",
    "zipcodes_df"
   ]
  },
  {
   "cell_type": "code",
   "execution_count": null,
   "id": "32e2b4c1",
   "metadata": {},
   "outputs": [],
   "source": [
    "compounds_df = pd.read_csv('compounds_addresses.csv')\n",
    "compounds_df"
   ]
  },
  {
   "cell_type": "markdown",
   "id": "2d61e856",
   "metadata": {},
   "source": [
    "#### Convert zip code to longitude and latitude"
   ]
  },
  {
   "cell_type": "code",
   "execution_count": null,
   "id": "2596954d",
   "metadata": {},
   "outputs": [],
   "source": [
    "nomi = pgeocode.Nominatim('de')"
   ]
  },
  {
   "cell_type": "code",
   "execution_count": null,
   "id": "668b7a08",
   "metadata": {},
   "outputs": [],
   "source": [
    "for index,row in zipcodes_df.iterrows():\n",
    "    query = nomi.query_postal_code(zipcodes_df.iat[index,0])\n",
    "    zipcodes_df.at[index,'lat']= query['latitude']\n",
    "    zipcodes_df.at[index,'long']= query['longitude']"
   ]
  },
  {
   "cell_type": "code",
   "execution_count": null,
   "id": "bb75608e",
   "metadata": {},
   "outputs": [],
   "source": [
    "compounds_df['zipcode'] = compounds_df['compound_address'].str.findall(r'([0-9]\\d+)').apply(lambda x: x[-1] if len(x) >= 1 else '')\n"
   ]
  },
  {
   "cell_type": "code",
   "execution_count": null,
   "id": "28d5a8e2",
   "metadata": {},
   "outputs": [],
   "source": [
    "for index,row in compounds_df.iterrows():\n",
    "    query = nomi.query_postal_code(compounds_df.iat[index,2])\n",
    "    compounds_df.at[index,'lat']= query['latitude']\n",
    "    compounds_df.at[index,'long']= query['longitude']"
   ]
  },
  {
   "cell_type": "markdown",
   "id": "c4fe7bff",
   "metadata": {},
   "source": [
    "#### Add coordinate column (necessary for usage of Haversine) "
   ]
  },
  {
   "cell_type": "code",
   "execution_count": null,
   "id": "070d1c2e",
   "metadata": {},
   "outputs": [],
   "source": [
    "zipcodes_df['coor']=list(zip(zipcodes_df.lat,zipcodes_df.long))\n",
    "compounds_df['coor']=list(zip(compounds_df.lat,compounds_df.long))"
   ]
  },
  {
   "cell_type": "code",
   "execution_count": null,
   "id": "321576a4",
   "metadata": {},
   "outputs": [],
   "source": [
    "zipcodes_df"
   ]
  },
  {
   "cell_type": "markdown",
   "id": "25b7a73d",
   "metadata": {},
   "source": [
    "### Calculate Distances"
   ]
  },
  {
   "cell_type": "code",
   "execution_count": null,
   "id": "a8db9da2",
   "metadata": {},
   "outputs": [],
   "source": [
    "def distance_from(loc1,loc2):\n",
    "    '''This function defines the distance between customers (loc1) and compound (loc2)'''\n",
    "    dist = hs.haversine(loc1,loc2)\n",
    "    return round(dist,2)"
   ]
  },
  {
   "cell_type": "code",
   "execution_count": null,
   "id": "4a0b26e8",
   "metadata": {},
   "outputs": [],
   "source": [
    "full_distances_df = zipcodes_df.copy()"
   ]
  },
  {
   "cell_type": "code",
   "execution_count": null,
   "id": "5e684a77",
   "metadata": {},
   "outputs": [],
   "source": [
    "for _,row in compounds_df.iterrows():\n",
    "    full_distances_df[row.compound_name]=full_distances_df['coor'].apply(lambda x: distance_from(row['coor'],x))"
   ]
  },
  {
   "cell_type": "code",
   "execution_count": null,
   "id": "9a4409e9",
   "metadata": {},
   "outputs": [],
   "source": [
    "distances = full_distances_df.drop(columns=['lat','long','coor'],axis=1)"
   ]
  },
  {
   "cell_type": "code",
   "execution_count": null,
   "id": "18588980",
   "metadata": {},
   "outputs": [],
   "source": [
    "distances.set_index('zipcode', inplace=True)"
   ]
  },
  {
   "cell_type": "code",
   "execution_count": null,
   "id": "50127ce2",
   "metadata": {},
   "outputs": [],
   "source": [
    "distances"
   ]
  },
  {
   "cell_type": "markdown",
   "id": "2e4455a4",
   "metadata": {},
   "source": [
    "Result:\n",
    "For every zipcode, the distances (in km) to every compound are given. \n",
    "As it's stored in a pandas Dataframe, further investigations can be easily done (p.eg. seeing the minimum per row etc.)."
   ]
  },
  {
   "cell_type": "markdown",
   "id": "be7ccdf2",
   "metadata": {},
   "source": [
    "### Calculate Driving Distance"
   ]
  },
  {
   "cell_type": "code",
   "execution_count": null,
   "id": "ca57fff2",
   "metadata": {},
   "outputs": [],
   "source": [
    "import requests\n",
    "import json\n",
    "from tqdm import tqdm"
   ]
  },
  {
   "cell_type": "code",
   "execution_count": null,
   "id": "0119361a",
   "metadata": {},
   "outputs": [],
   "source": [
    "def request_driving_distance_in_meters_from_api(loc1,loc2):\n",
    "    '''Requests from OpenStreetMap to calculate Driving Distance between customer and compound'''\n",
    "    r = requests.get(f\"\"\"http://router.project-osrm.org/route/v1/car/{loc1[1]},{loc1[0]};{loc2[1]},{loc2[0]}?overview=false\"\"\")\n",
    "    content = json.loads(r.content)\n",
    "    if 'routes' in content:\n",
    "        route_1 = content['routes'][0]\n",
    "        return route_1['distance']\n",
    "    else:\n",
    "        return 0.0"
   ]
  },
  {
   "cell_type": "code",
   "execution_count": null,
   "id": "dace3d2e",
   "metadata": {},
   "outputs": [],
   "source": [
    "tqdm.pandas()\n",
    "driving_distances_df = zipcodes_df.copy()\n",
    "for _,row in compounds_df.iterrows():\n",
    "    driving_distances_df[row.compound_name]=driving_distances_df['coor'].progress_apply(lambda x: request_driving_distance_in_meters_from_api(row['coor'],x))"
   ]
  },
  {
   "cell_type": "code",
   "execution_count": null,
   "id": "e5401bf7",
   "metadata": {},
   "outputs": [],
   "source": [
    "driving_distances_df"
   ]
  }
 ],
 "metadata": {
  "kernelspec": {
   "display_name": "Machine_Learning",
   "language": "python",
   "name": "python3"
  },
  "language_info": {
   "codemirror_mode": {
    "name": "ipython",
    "version": 3
   },
   "file_extension": ".py",
   "mimetype": "text/x-python",
   "name": "python",
   "nbconvert_exporter": "python",
   "pygments_lexer": "ipython3",
   "version": "3.8.11"
  },
  "vscode": {
   "interpreter": {
    "hash": "b87c5cd517315554be61510f43e1a54ca7a62f8d4edb28cd9ce9a6fffaa081d4"
   }
  }
 },
 "nbformat": 4,
 "nbformat_minor": 5
}
